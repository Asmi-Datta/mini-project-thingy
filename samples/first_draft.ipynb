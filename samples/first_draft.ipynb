{
 "cells": [
  {
   "cell_type": "code",
   "execution_count": 1,
   "metadata": {},
   "outputs": [],
   "source": [
    "from langchain_community.document_loaders import PyPDFLoader\n",
    "\n",
    "# https://python.langchain.com/docs/integrations/document_loaders/pypdfloader/#add-a-custom-pages_delimiter-to-identify-where-are-ends-of-pages-in-single-mode\n",
    "def pdf_loader(pdf_path: str):\n",
    "    return PyPDFLoader(\n",
    "        pdf_path,\n",
    "        mode=\"single\",\n",
    "        pages_delimiter=\"\\n-------END OF PAGE-------\\n\",\n",
    "    )\n",
    "\n",
    "dream_dictionary_docs = pdf_loader(\"assets/data/The_Dreamers_Dictionary.pdf\").load()\n",
    "jung_archetypes_docs = pdf_loader(\"assets/data/The_Archetypes_of_the_Collective_Unconscious_C.Jung.pdf\").load()\n",
    "jung_interpretations_docs = pdf_loader(\"assets/data/Symbols_and_the_Interpretation_of_Dreams_by_Carl_Jung.pdf\").load()"
   ]
  },
  {
   "cell_type": "code",
   "execution_count": 2,
   "metadata": {},
   "outputs": [],
   "source": [
    "from langchain_text_splitters import RecursiveCharacterTextSplitter\n",
    "\n",
    "text_splitter = RecursiveCharacterTextSplitter(\n",
    "    chunk_size=1000,                # chunk size (characters)\n",
    "    chunk_overlap=200,              # chunk overlap (characters)\n",
    "    add_start_index=True,           # track index in original document\n",
    ")\n",
    "dream_dictionary_splits = text_splitter.split_documents(dream_dictionary_docs)\n",
    "jung_archetypes_splits = text_splitter.split_documents(jung_archetypes_docs)\n",
    "jung_interpretations_splits = text_splitter.split_documents(jung_interpretations_docs)"
   ]
  },
  {
   "cell_type": "code",
   "execution_count": 3,
   "metadata": {},
   "outputs": [
    {
     "name": "stderr",
     "output_type": "stream",
     "text": [
      "/mnt/Snorlax/Projects/cs-minor-6sem/langchain-demo/env/lib/python3.11/site-packages/tqdm/auto.py:21: TqdmWarning: IProgress not found. Please update jupyter and ipywidgets. See https://ipywidgets.readthedocs.io/en/stable/user_install.html\n",
      "  from .autonotebook import tqdm as notebook_tqdm\n"
     ]
    }
   ],
   "source": [
    "from langchain_huggingface.embeddings import HuggingFaceEmbeddings  # local\n",
    "from langchain_core.vectorstores import InMemoryVectorStore\n",
    "\n",
    "embeddings = HuggingFaceEmbeddings(\n",
    "    model_name=\"sentence-transformers/all-mpnet-base-v2\",\n",
    "    model_kwargs={\"device\": \"cuda\"},\n",
    ")\n",
    "\n",
    "# Create In-Memory Vector Stores\n",
    "dream_dictionary_store = InMemoryVectorStore(embeddings)\n",
    "jung_archetypes_store = InMemoryVectorStore(embeddings)\n",
    "jung_interpretations_store = InMemoryVectorStore(embeddings)"
   ]
  },
  {
   "cell_type": "code",
   "execution_count": 4,
   "metadata": {},
   "outputs": [
    {
     "name": "stdout",
     "output_type": "stream",
     "text": [
      "\n",
      "attempting embed...\n",
      "\n",
      "done\n"
     ]
    },
    {
     "name": "stderr",
     "output_type": "stream",
     "text": [
      "/tmp/ipykernel_22061/2511971306.py:2: RuntimeWarning: coroutine 'InMemoryVectorStore.aadd_documents' was never awaited\n",
      "  dream_dictionary_store.aadd_documents(documents=dream_dictionary_splits)\n",
      "RuntimeWarning: Enable tracemalloc to get the object allocation traceback\n",
      "/tmp/ipykernel_22061/2511971306.py:3: RuntimeWarning: coroutine 'InMemoryVectorStore.aadd_documents' was never awaited\n",
      "  jung_archetypes_store.aadd_documents(documents=jung_archetypes_splits)\n",
      "RuntimeWarning: Enable tracemalloc to get the object allocation traceback\n",
      "/tmp/ipykernel_22061/2511971306.py:4: RuntimeWarning: coroutine 'InMemoryVectorStore.aadd_documents' was never awaited\n",
      "  jung_interpretations_store.aadd_documents(documents=jung_interpretations_splits)\n",
      "RuntimeWarning: Enable tracemalloc to get the object allocation traceback\n"
     ]
    }
   ],
   "source": [
    "print(\"\\nattempting embed...\\n\")\n",
    "dream_dictionary_store.aadd_documents(documents=dream_dictionary_splits)\n",
    "jung_archetypes_store.aadd_documents(documents=jung_archetypes_splits)\n",
    "jung_interpretations_store.aadd_documents(documents=jung_interpretations_splits)\n",
    "print(\"done\")"
   ]
  },
  {
   "cell_type": "code",
   "execution_count": 5,
   "metadata": {},
   "outputs": [
    {
     "name": "stdout",
     "output_type": "stream",
     "text": [
      "done storing\n"
     ]
    }
   ],
   "source": [
    "import pickle\n",
    "\n",
    "with open(\n",
    "    \"assets/pickles/dream_dictionary_store.dat\", mode=\"wb\"\n",
    ") as f_dream_dictionary_store, open(\n",
    "    \"assets/pickles/jung_archetypes_store.dat\", mode=\"wb\"\n",
    ") as f_jung_archetypes_store, open(\n",
    "    \"assets/pickles/jung_interpretations_store.dat\", mode=\"wb\"\n",
    ") as f_jung_interpretations_store:\n",
    "    pickle.dump(dream_dictionary_store, f_dream_dictionary_store)\n",
    "    pickle.dump(jung_archetypes_store, f_jung_archetypes_store)\n",
    "    pickle.dump(jung_interpretations_store, f_jung_interpretations_store)\n",
    "    print(\"done storing\")"
   ]
  },
  {
   "cell_type": "code",
   "execution_count": 1,
   "metadata": {},
   "outputs": [
    {
     "name": "stderr",
     "output_type": "stream",
     "text": [
      "/mnt/Snorlax/Projects/cs-minor-6sem/langchain-demo/env/lib/python3.11/site-packages/tqdm/auto.py:21: TqdmWarning: IProgress not found. Please update jupyter and ipywidgets. See https://ipywidgets.readthedocs.io/en/stable/user_install.html\n",
      "  from .autonotebook import tqdm as notebook_tqdm\n"
     ]
    },
    {
     "name": "stdout",
     "output_type": "stream",
     "text": [
      "done loading\n"
     ]
    }
   ],
   "source": [
    "import pickle\n",
    "\n",
    "with open(\n",
    "    \"assets/pickles/dream_dictionary_store.dat\", mode=\"rb\"\n",
    ") as f_dream_dictionary_store, open(\n",
    "    \"assets/pickles/jung_archetypes_store.dat\", mode=\"rb\"\n",
    ") as f_jung_archetypes_store, open(\n",
    "    \"assets/pickles/jung_interpretations_store.dat\", mode=\"rb\"\n",
    ") as f_jung_interpretations_store:\n",
    "    dream_dictionary_store = pickle.load(f_dream_dictionary_store)\n",
    "    jung_archetypes_store = pickle.load(f_jung_archetypes_store)\n",
    "    jung_interpretations_store = pickle.load(f_jung_interpretations_store)\n",
    "    print(\"done loading\")"
   ]
  },
  {
   "cell_type": "code",
   "execution_count": 2,
   "metadata": {},
   "outputs": [],
   "source": [
    "from typing import Optional\n",
    "from pydantic import BaseModel, Field\n",
    "from langchain_ollama import ChatOllama\n",
    "\n",
    "\n",
    "llm = ChatOllama(\n",
    "    model=\"llama3.2:3b\",\n",
    "    temperature=0,\n",
    "    # other params...\n",
    ")\n",
    "\n",
    "dream_text = \"I fell off a bridge\"\n",
    "\n",
    "dream_dictionary_results = dream_dictionary_store.similarity_search(dream_text)\n",
    "jung_archetypes_results = jung_archetypes_store.similarity_search(dream_text)\n",
    "jung_interpretations_results = jung_interpretations_store.similarity_search(dream_text)\n",
    "\n",
    "def parse(result):\n",
    "    return \"\\n\\n\".join(doc.page_content for doc in result)\n",
    "\n",
    "dream_dictionary_context = parse(dream_dictionary_results)\n",
    "jung_archetypes_context = parse(jung_archetypes_results)\n",
    "jung_interpretations_context = parse(jung_interpretations_results)\n",
    "\n",
    "\n",
    "# Pydantic\n",
    "# class strllm(BaseModel):\n",
    "#     \"\"\"Dream interpretation\"\"\"\n",
    "\n",
    "#     dream: str = Field(description=\"Dream entered by the user\")\n",
    "#     interpretation: str = Field(description=\"Interpretation of dream\")\n",
    "#     stat: Optional[str] = Field(\n",
    "#         default=None, description=\"What life issues the user may be experiencing\"\n",
    "#     )\n",
    "\n",
    "# llm = llm.with_structured_output(strllm)\n",
    "# answer = llm.invoke(dream_text)\n",
    "# print(answer)\n",
    "\n"
   ]
  }
 ],
 "metadata": {
  "kernelspec": {
   "display_name": "env",
   "language": "python",
   "name": "python3"
  },
  "language_info": {
   "codemirror_mode": {
    "name": "ipython",
    "version": 3
   },
   "file_extension": ".py",
   "mimetype": "text/x-python",
   "name": "python",
   "nbconvert_exporter": "python",
   "pygments_lexer": "ipython3",
   "version": "3.11.11"
  }
 },
 "nbformat": 4,
 "nbformat_minor": 2
}
