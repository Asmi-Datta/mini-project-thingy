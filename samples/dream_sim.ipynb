{
 "cells": [
  {
   "cell_type": "markdown",
   "metadata": {},
   "source": [
    "Ref: https://python.langchain.com/docs/tutorials/rag/"
   ]
  },
  {
   "cell_type": "markdown",
   "metadata": {},
   "source": [
    "### Load model"
   ]
  },
  {
   "cell_type": "code",
   "execution_count": null,
   "metadata": {},
   "outputs": [],
   "source": [
    "from dotenv import load_dotenv\n",
    "load_dotenv()\n",
    "\n",
    "# https://python.langchain.com/docs/integrations/chat/huggingface/#huggingfacepipeline\n",
    "from langchain_huggingface import ChatHuggingFace, HuggingFaceEndpoint\n",
    "\n",
    "llm = HuggingFaceEndpoint(\n",
    "    repo_id=\"meta-llama/Llama-3.2-3B-Instruct\",\n",
    "    task=\"text-generation\",\n",
    "    temperature=0,\n",
    "    # max_new_tokens=512,\n",
    "    # do_sample=False,\n",
    "    # repetition_penalty=1.03,\n",
    ")\n",
    "\n",
    "llm = ChatHuggingFace(llm=llm)\n"
   ]
  },
  {
   "cell_type": "markdown",
   "metadata": {},
   "source": [
    "### Data loading"
   ]
  },
  {
   "cell_type": "code",
   "execution_count": null,
   "metadata": {},
   "outputs": [],
   "source": [
    "from langchain_community.document_loaders import PyPDFLoader\n",
    "\n",
    "# https://python.langchain.com/docs/integrations/document_loaders/pypdfloader/#add-a-custom-pages_delimiter-to-identify-where-are-ends-of-pages-in-single-mode\n",
    "loader = PyPDFLoader(\n",
    "    \"./assets/data/C.-G.-Jung-Collected-Works-Volume-9i_-The-Archetypes-of-the-Collective-Unconscious.pdf\",\n",
    "    mode=\"single\",\n",
    "    pages_delimiter=\"\\n-------THIS MARKS THE END OF THIS PAGE-------\\n\",\n",
    ")\n",
    "docs = loader.load()\n",
    "print(len(docs))\n",
    "# assert len(docs) == 1"
   ]
  },
  {
   "cell_type": "code",
   "execution_count": null,
   "metadata": {},
   "outputs": [],
   "source": [
    "from langchain_community.document_loaders.csv_loader import CSVLoader\n",
    "\n",
    "loader = CSVLoader(\n",
    "    file_path=\"assets/data/Mental Health Dataset.csv\",\n",
    "    csv_args={\n",
    "        \"delimiter\": \",\",\n",
    "        \"fieldnames\": [\"Gender\", \"Country\", \"Occupation\", \"self_employed\", \"family_history\", \"treatment\", \"Days_Indoors\", \"Growing_Stress\", \"Changes_Habits\", \"Mental_Health_History\", \"Mood_Swings\", \"Coping_Struggles\", \"Work_Interest\", \"Social_Weakness\", \"mental_health_interview\", \"care_options\"],\n",
    "    },\n",
    ")\n",
    "\n",
    "mental_health_data = loader.load()\n",
    "print(len(mental_health_data))\n",
    "print(mental_health_data[1])"
   ]
  },
  {
   "cell_type": "code",
   "execution_count": null,
   "metadata": {},
   "outputs": [],
   "source": [
    "import json\n",
    "\n",
    "# file_path = \"assets/data/jstorsample.jsonl\"\n",
    "\n",
    "# dream_json = {}\n",
    "# with open(file_path, \"r\", encoding=\"utf-8\") as f:\n",
    "#     for i, line in enumerate(f):\n",
    "#         entry = json.loads(line.strip())\n",
    "#         # if \"dream_description\" in entry:\n",
    "#         # content = f\"Dream: {entry['dream_description']}\"\n",
    "#         # docs.append(entry)\n",
    "#         dream_json[str(i)] = entry\n",
    "\n",
    "# dump_path = \"assets/data/jsonl_parsed.json\"\n",
    "# with open(dump_path, \"w\") as f:\n",
    "#     json.dump(dream_json, f)\n",
    "\n",
    "from langchain_community.document_loaders import JSONLoader\n",
    "\n",
    "loader = JSONLoader(\n",
    "    file_path=\"assets/data/jstorsample.jsonl\",\n",
    "    jq_schema=\".\",\n",
    "    json_lines=True,\n",
    "    is_content_key_jq_parsable=False,\n",
    "    text_content=False,\n",
    ")\n",
    "\n",
    "dream_docs = loader.load()\n",
    "print(len(dream_docs))"
   ]
  },
  {
   "cell_type": "markdown",
   "metadata": {},
   "source": [
    "### Text splitting, embedding and indexing"
   ]
  },
  {
   "cell_type": "code",
   "execution_count": null,
   "metadata": {},
   "outputs": [],
   "source": [
    "from langchain_text_splitters import RecursiveCharacterTextSplitter\n",
    "\n",
    "text_splitter = RecursiveCharacterTextSplitter(\n",
    "    chunk_size=1000,  # chunk size (characters)\n",
    "    chunk_overlap=200,  # chunk overlap (characters)\n",
    "    add_start_index=True,  # track index in original document\n",
    ")\n",
    "pdf_splits = text_splitter.split_documents(docs)\n",
    "# csv_splits = text_splitter.split_documents(mental_health_data)\n",
    "jsonl_splits = text_splitter.split_documents(dream_docs)\n",
    "\n"
   ]
  },
  {
   "cell_type": "code",
   "execution_count": null,
   "metadata": {},
   "outputs": [],
   "source": [
    "from langchain_huggingface.embeddings import HuggingFaceEmbeddings # local\n",
    "from langchain_core.vectorstores import InMemoryVectorStore\n",
    "embeddings = HuggingFaceEmbeddings(\n",
    "    model_name=\"sentence-transformers/all-mpnet-base-v2\",\n",
    "    model_kwargs={\"device\": \"cuda\"},\n",
    ")"
   ]
  },
  {
   "cell_type": "code",
   "execution_count": null,
   "metadata": {},
   "outputs": [],
   "source": [
    "# Create In-Memory Vector Stores\n",
    "# mental_health_store = InMemoryVectorStore(embeddings)\n",
    "jung_store = InMemoryVectorStore(embeddings)\n",
    "dream_store = InMemoryVectorStore(embeddings)\n"
   ]
  },
  {
   "cell_type": "code",
   "execution_count": null,
   "metadata": {},
   "outputs": [],
   "source": [
    "# Add embeddings to the stores\n",
    "# mental_health_store.add_documents(documents=csv_splits)\n",
    "# print(\"mental health done\")\n",
    "jung_store.add_documents(documents=pdf_splits)\n",
    "print(\"jung book done\")\n",
    "dream_store.add_documents(documents=jsonl_splits)\n",
    "print(\"jsonl done\")"
   ]
  },
  {
   "cell_type": "markdown",
   "metadata": {},
   "source": [
    "### Information retrieval and generation"
   ]
  },
  {
   "cell_type": "code",
   "execution_count": null,
   "metadata": {},
   "outputs": [],
   "source": [
    "from langchain_core.prompts import ChatPromptTemplate\n",
    "import textwrap\n",
    "\n",
    "def interpret_dream_rag(dream_text):\n",
    "    # Retrieve context from all sources\n",
    "    # mental_health_results = mental_health_retriever.get_relevant_documents(dream_text)\n",
    "    jung_results = jung_store.similarity_search(dream_text)\n",
    "    dream_results = dream_store.similarity_search(dream_text)\n",
    "\n",
    "    context = \"\\n\\n\".join([doc.page_content for doc in (jung_results + dream_results)])\n",
    "\n",
    "    prompt = ChatPromptTemplate.from_template(\n",
    "        \"\"\"User's Dream: {dream_text}\n",
    "\n",
    "    Context from Jungian Archetypes, and Dream History:\n",
    "    {context}\n",
    "\n",
    "    Generate a deep and meaningful dream interpretation based on these insights.\n",
    "    Answer:\"\"\"\n",
    "    )\n",
    "\n",
    "    chain = prompt | llm\n",
    "    answer = chain.invoke({\"dream_text\": dream_text, \"context\": context})\n",
    "\n",
    "    return answer\n",
    "\n",
    "print(textwrap.fill(interpret_dream_rag(\"I dreamt of falling off of a bridge\").content, width=120))\n"
   ]
  }
 ],
 "metadata": {
  "kernelspec": {
   "display_name": "env",
   "language": "python",
   "name": "python3"
  },
  "language_info": {
   "codemirror_mode": {
    "name": "ipython",
    "version": 3
   },
   "file_extension": ".py",
   "mimetype": "text/x-python",
   "name": "python",
   "nbconvert_exporter": "python",
   "pygments_lexer": "ipython3",
   "version": "3.11.11"
  }
 },
 "nbformat": 4,
 "nbformat_minor": 2
}
